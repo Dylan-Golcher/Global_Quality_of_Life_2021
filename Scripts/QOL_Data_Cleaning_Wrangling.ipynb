{
 "cells": [
  {
   "cell_type": "markdown",
   "id": "e4a66596",
   "metadata": {},
   "source": [
    "# Quality of Life by Country Comparison 2021\n",
    "\n",
    "## Table of Contents\n",
    "\n",
    "### 1. Import Libraries\n",
    "### 2. Import Dataset\n",
    "### 3. Check Dataset\n",
    "##### Shape, info & data types, mixed data types, calculate basic statistics\n",
    "### 4. Consistency Check Dataset\n",
    "##### Blanks, duplicates\n",
    "### 5. Notes"
   ]
  },
  {
   "cell_type": "markdown",
   "id": "5e5efb47",
   "metadata": {},
   "source": [
    "## 1. Import Libraries"
   ]
  },
  {
   "cell_type": "code",
   "execution_count": 5,
   "id": "4f29b09b",
   "metadata": {},
   "outputs": [],
   "source": [
    "#Import Libraries\n",
    "import pandas as pd\n",
    "import numpy as np\n",
    "import os"
   ]
  },
  {
   "cell_type": "markdown",
   "id": "e633c071",
   "metadata": {},
   "source": [
    "## 2. Import Dataset"
   ]
  },
  {
   "cell_type": "code",
   "execution_count": 6,
   "id": "7abd76c2",
   "metadata": {},
   "outputs": [],
   "source": [
    "#Create a path\n",
    "path = r'C:\\Users\\dyl41\\Documents\\Quality of Life Project'"
   ]
  },
  {
   "cell_type": "code",
   "execution_count": 7,
   "id": "ef768642",
   "metadata": {},
   "outputs": [],
   "source": [
    "#Import dataset\n",
    "df = pd.read_csv(os.path.join(path, 'Data', 'Original Data', 'Quality of Life.csv'), index_col = False)"
   ]
  },
  {
   "cell_type": "markdown",
   "id": "bd589b28",
   "metadata": {},
   "source": [
    "## 3. Check Dataset"
   ]
  },
  {
   "cell_type": "code",
   "execution_count": 8,
   "id": "b8160bb7",
   "metadata": {},
   "outputs": [
    {
     "data": {
      "text/plain": [
       "(137, 11)"
      ]
     },
     "execution_count": 8,
     "metadata": {},
     "output_type": "execute_result"
    }
   ],
   "source": [
    "#Check shape\n",
    "df.shape"
   ]
  },
  {
   "cell_type": "code",
   "execution_count": 9,
   "id": "7332d9f6",
   "metadata": {},
   "outputs": [
    {
     "name": "stdout",
     "output_type": "stream",
     "text": [
      "<class 'pandas.core.frame.DataFrame'>\n",
      "RangeIndex: 137 entries, 0 to 136\n",
      "Data columns (total 11 columns):\n",
      " #   Column                      Non-Null Count  Dtype \n",
      "---  ------                      --------------  ----- \n",
      " 0   Unnamed: 0                  137 non-null    int64 \n",
      " 1   Rank                        137 non-null    int64 \n",
      " 2   Country                     137 non-null    object\n",
      " 3   Stability(15%)              137 non-null    int64 \n",
      " 4   Rights(20%)                 137 non-null    int64 \n",
      " 5   Health(15%)                 137 non-null    int64 \n",
      " 6   Safety(10%)                 137 non-null    int64 \n",
      " 7   Climate(15%)                137 non-null    int64 \n",
      " 8   Costs(15%)                  137 non-null    int64 \n",
      " 9   Popularity(10%)             137 non-null    int64 \n",
      " 10  TotalQuality of life(100%)  137 non-null    int64 \n",
      "dtypes: int64(10), object(1)\n",
      "memory usage: 11.9+ KB\n"
     ]
    }
   ],
   "source": [
    "#Check info & data types\n",
    "df.info()"
   ]
  },
  {
   "cell_type": "code",
   "execution_count": 11,
   "id": "fe53f9cd",
   "metadata": {},
   "outputs": [],
   "source": [
    "#Check for mixed types\n",
    "for col in df.columns.tolist():\n",
    "  weird = (df[[col]].applymap(type) != df[[col]].iloc[0].apply(type)).any(axis = 1)\n",
    "  if len (df[weird]) > 0:\n",
    "    print (col, 'mixed')"
   ]
  },
  {
   "cell_type": "code",
   "execution_count": 12,
   "id": "46150d1a",
   "metadata": {},
   "outputs": [
    {
     "data": {
      "text/html": [
       "<div>\n",
       "<style scoped>\n",
       "    .dataframe tbody tr th:only-of-type {\n",
       "        vertical-align: middle;\n",
       "    }\n",
       "\n",
       "    .dataframe tbody tr th {\n",
       "        vertical-align: top;\n",
       "    }\n",
       "\n",
       "    .dataframe thead th {\n",
       "        text-align: right;\n",
       "    }\n",
       "</style>\n",
       "<table border=\"1\" class=\"dataframe\">\n",
       "  <thead>\n",
       "    <tr style=\"text-align: right;\">\n",
       "      <th></th>\n",
       "      <th>Unnamed: 0</th>\n",
       "      <th>Rank</th>\n",
       "      <th>Stability(15%)</th>\n",
       "      <th>Rights(20%)</th>\n",
       "      <th>Health(15%)</th>\n",
       "      <th>Safety(10%)</th>\n",
       "      <th>Climate(15%)</th>\n",
       "      <th>Costs(15%)</th>\n",
       "      <th>Popularity(10%)</th>\n",
       "      <th>TotalQuality of life(100%)</th>\n",
       "    </tr>\n",
       "  </thead>\n",
       "  <tbody>\n",
       "    <tr>\n",
       "      <th>count</th>\n",
       "      <td>137.000000</td>\n",
       "      <td>137.000000</td>\n",
       "      <td>137.000000</td>\n",
       "      <td>137.000000</td>\n",
       "      <td>137.000000</td>\n",
       "      <td>137.000000</td>\n",
       "      <td>137.000000</td>\n",
       "      <td>137.000000</td>\n",
       "      <td>137.000000</td>\n",
       "      <td>137.000000</td>\n",
       "    </tr>\n",
       "    <tr>\n",
       "      <th>mean</th>\n",
       "      <td>68.000000</td>\n",
       "      <td>69.000000</td>\n",
       "      <td>57.576642</td>\n",
       "      <td>50.686131</td>\n",
       "      <td>58.124088</td>\n",
       "      <td>76.781022</td>\n",
       "      <td>53.233577</td>\n",
       "      <td>52.343066</td>\n",
       "      <td>37.978102</td>\n",
       "      <td>54.802920</td>\n",
       "    </tr>\n",
       "    <tr>\n",
       "      <th>std</th>\n",
       "      <td>39.692569</td>\n",
       "      <td>39.692569</td>\n",
       "      <td>19.328706</td>\n",
       "      <td>25.142755</td>\n",
       "      <td>26.093284</td>\n",
       "      <td>21.791362</td>\n",
       "      <td>19.960720</td>\n",
       "      <td>11.612897</td>\n",
       "      <td>12.050425</td>\n",
       "      <td>10.887013</td>\n",
       "    </tr>\n",
       "    <tr>\n",
       "      <th>min</th>\n",
       "      <td>0.000000</td>\n",
       "      <td>1.000000</td>\n",
       "      <td>8.000000</td>\n",
       "      <td>7.000000</td>\n",
       "      <td>0.000000</td>\n",
       "      <td>4.000000</td>\n",
       "      <td>2.000000</td>\n",
       "      <td>23.000000</td>\n",
       "      <td>11.000000</td>\n",
       "      <td>29.000000</td>\n",
       "    </tr>\n",
       "    <tr>\n",
       "      <th>25%</th>\n",
       "      <td>34.000000</td>\n",
       "      <td>35.000000</td>\n",
       "      <td>46.000000</td>\n",
       "      <td>32.000000</td>\n",
       "      <td>42.000000</td>\n",
       "      <td>69.000000</td>\n",
       "      <td>42.000000</td>\n",
       "      <td>44.000000</td>\n",
       "      <td>31.000000</td>\n",
       "      <td>47.000000</td>\n",
       "    </tr>\n",
       "    <tr>\n",
       "      <th>50%</th>\n",
       "      <td>68.000000</td>\n",
       "      <td>69.000000</td>\n",
       "      <td>57.000000</td>\n",
       "      <td>45.000000</td>\n",
       "      <td>63.000000</td>\n",
       "      <td>85.000000</td>\n",
       "      <td>53.000000</td>\n",
       "      <td>54.000000</td>\n",
       "      <td>37.000000</td>\n",
       "      <td>54.000000</td>\n",
       "    </tr>\n",
       "    <tr>\n",
       "      <th>75%</th>\n",
       "      <td>102.000000</td>\n",
       "      <td>103.000000</td>\n",
       "      <td>72.000000</td>\n",
       "      <td>72.000000</td>\n",
       "      <td>80.000000</td>\n",
       "      <td>93.000000</td>\n",
       "      <td>68.000000</td>\n",
       "      <td>61.000000</td>\n",
       "      <td>42.000000</td>\n",
       "      <td>64.000000</td>\n",
       "    </tr>\n",
       "    <tr>\n",
       "      <th>max</th>\n",
       "      <td>136.000000</td>\n",
       "      <td>137.000000</td>\n",
       "      <td>93.000000</td>\n",
       "      <td>100.000000</td>\n",
       "      <td>100.000000</td>\n",
       "      <td>100.000000</td>\n",
       "      <td>95.000000</td>\n",
       "      <td>76.000000</td>\n",
       "      <td>73.000000</td>\n",
       "      <td>76.000000</td>\n",
       "    </tr>\n",
       "  </tbody>\n",
       "</table>\n",
       "</div>"
      ],
      "text/plain": [
       "       Unnamed: 0        Rank  Stability(15%)  Rights(20%)  Health(15%)  \\\n",
       "count  137.000000  137.000000      137.000000   137.000000   137.000000   \n",
       "mean    68.000000   69.000000       57.576642    50.686131    58.124088   \n",
       "std     39.692569   39.692569       19.328706    25.142755    26.093284   \n",
       "min      0.000000    1.000000        8.000000     7.000000     0.000000   \n",
       "25%     34.000000   35.000000       46.000000    32.000000    42.000000   \n",
       "50%     68.000000   69.000000       57.000000    45.000000    63.000000   \n",
       "75%    102.000000  103.000000       72.000000    72.000000    80.000000   \n",
       "max    136.000000  137.000000       93.000000   100.000000   100.000000   \n",
       "\n",
       "       Safety(10%)  Climate(15%)  Costs(15%)  Popularity(10%)  \\\n",
       "count   137.000000    137.000000  137.000000       137.000000   \n",
       "mean     76.781022     53.233577   52.343066        37.978102   \n",
       "std      21.791362     19.960720   11.612897        12.050425   \n",
       "min       4.000000      2.000000   23.000000        11.000000   \n",
       "25%      69.000000     42.000000   44.000000        31.000000   \n",
       "50%      85.000000     53.000000   54.000000        37.000000   \n",
       "75%      93.000000     68.000000   61.000000        42.000000   \n",
       "max     100.000000     95.000000   76.000000        73.000000   \n",
       "\n",
       "       TotalQuality of life(100%)  \n",
       "count                  137.000000  \n",
       "mean                    54.802920  \n",
       "std                     10.887013  \n",
       "min                     29.000000  \n",
       "25%                     47.000000  \n",
       "50%                     54.000000  \n",
       "75%                     64.000000  \n",
       "max                     76.000000  "
      ]
     },
     "execution_count": 12,
     "metadata": {},
     "output_type": "execute_result"
    }
   ],
   "source": [
    "#Calculate basic stats\n",
    "df.describe()"
   ]
  },
  {
   "cell_type": "markdown",
   "id": "ff8c4501",
   "metadata": {},
   "source": [
    "## 4. Consistency Check Dataset"
   ]
  },
  {
   "cell_type": "code",
   "execution_count": 13,
   "id": "c5288d6f",
   "metadata": {},
   "outputs": [
    {
     "data": {
      "text/plain": [
       "Unnamed: 0                    0\n",
       "Rank                          0\n",
       "Country                       0\n",
       "Stability(15%)                0\n",
       "Rights(20%)                   0\n",
       "Health(15%)                   0\n",
       "Safety(10%)                   0\n",
       "Climate(15%)                  0\n",
       "Costs(15%)                    0\n",
       "Popularity(10%)               0\n",
       "TotalQuality of life(100%)    0\n",
       "dtype: int64"
      ]
     },
     "execution_count": 13,
     "metadata": {},
     "output_type": "execute_result"
    }
   ],
   "source": [
    "#Check for blanks\n",
    "df.isnull().sum()"
   ]
  },
  {
   "cell_type": "code",
   "execution_count": 14,
   "id": "5485459c",
   "metadata": {},
   "outputs": [],
   "source": [
    "#Check for duplicates\n",
    "df_dups = df[df.duplicated()]"
   ]
  },
  {
   "cell_type": "code",
   "execution_count": 15,
   "id": "59fda949",
   "metadata": {},
   "outputs": [
    {
     "data": {
      "text/html": [
       "<div>\n",
       "<style scoped>\n",
       "    .dataframe tbody tr th:only-of-type {\n",
       "        vertical-align: middle;\n",
       "    }\n",
       "\n",
       "    .dataframe tbody tr th {\n",
       "        vertical-align: top;\n",
       "    }\n",
       "\n",
       "    .dataframe thead th {\n",
       "        text-align: right;\n",
       "    }\n",
       "</style>\n",
       "<table border=\"1\" class=\"dataframe\">\n",
       "  <thead>\n",
       "    <tr style=\"text-align: right;\">\n",
       "      <th></th>\n",
       "      <th>Unnamed: 0</th>\n",
       "      <th>Rank</th>\n",
       "      <th>Country</th>\n",
       "      <th>Stability(15%)</th>\n",
       "      <th>Rights(20%)</th>\n",
       "      <th>Health(15%)</th>\n",
       "      <th>Safety(10%)</th>\n",
       "      <th>Climate(15%)</th>\n",
       "      <th>Costs(15%)</th>\n",
       "      <th>Popularity(10%)</th>\n",
       "      <th>TotalQuality of life(100%)</th>\n",
       "    </tr>\n",
       "  </thead>\n",
       "  <tbody>\n",
       "  </tbody>\n",
       "</table>\n",
       "</div>"
      ],
      "text/plain": [
       "Empty DataFrame\n",
       "Columns: [Unnamed: 0, Rank, Country, Stability(15%), Rights(20%), Health(15%), Safety(10%), Climate(15%), Costs(15%), Popularity(10%), TotalQuality of life(100%)]\n",
       "Index: []"
      ]
     },
     "execution_count": 15,
     "metadata": {},
     "output_type": "execute_result"
    }
   ],
   "source": [
    "#Check the duplicate dataframe\n",
    "df_dups"
   ]
  },
  {
   "cell_type": "markdown",
   "id": "b0b6727b",
   "metadata": {},
   "source": [
    "## 5. Notes"
   ]
  },
  {
   "cell_type": "markdown",
   "id": "04a8a288",
   "metadata": {},
   "source": [
    "Dataset was pre-cleaned in Excel and imported here to double check for any errors"
   ]
  },
  {
   "cell_type": "code",
   "execution_count": null,
   "id": "6342ce84",
   "metadata": {},
   "outputs": [],
   "source": []
  }
 ],
 "metadata": {
  "kernelspec": {
   "display_name": "Python 3 (ipykernel)",
   "language": "python",
   "name": "python3"
  },
  "language_info": {
   "codemirror_mode": {
    "name": "ipython",
    "version": 3
   },
   "file_extension": ".py",
   "mimetype": "text/x-python",
   "name": "python",
   "nbconvert_exporter": "python",
   "pygments_lexer": "ipython3",
   "version": "3.9.13"
  }
 },
 "nbformat": 4,
 "nbformat_minor": 5
}
