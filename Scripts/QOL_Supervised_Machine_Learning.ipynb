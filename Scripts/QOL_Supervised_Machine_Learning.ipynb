{
 "cells": [
  {
   "cell_type": "markdown",
   "id": "7d84e2f4",
   "metadata": {},
   "source": [
    "# Supervised Machine Learning: Regression\n",
    "\n",
    "## Table of Contents\n",
    "\n",
    "### 1. Import Data & Libraries\n",
    "\n",
    "### 2. Data Cleaning\n",
    "\n",
    "### 3. Data Prep for Regression Analysis\n",
    "\n",
    "### 4. Regression Analysis"
   ]
  },
  {
   "cell_type": "markdown",
   "id": "4e03b257",
   "metadata": {},
   "source": [
    "## 1. Import Data & Libraries"
   ]
  },
  {
   "cell_type": "code",
   "execution_count": 1,
   "id": "b6bd642b",
   "metadata": {},
   "outputs": [],
   "source": [
    "import pandas as pd\n",
    "import numpy as np\n",
    "import seaborn as sns\n",
    "import matplotlib\n",
    "import matplotlib.pyplot as plt\n",
    "import os\n",
    "import sklearn\n",
    "from sklearn.model_selection import train_test_split \n",
    "from sklearn.linear_model import LinearRegression\n",
    "from sklearn.metrics import mean_squared_error, r2_score"
   ]
  },
  {
   "cell_type": "code",
   "execution_count": 2,
   "id": "a0996150",
   "metadata": {},
   "outputs": [],
   "source": [
    "#Show matplotlib visuals\n",
    "\n",
    "%matplotlib inline"
   ]
  },
  {
   "cell_type": "code",
   "execution_count": 3,
   "id": "f42a63a1",
   "metadata": {},
   "outputs": [],
   "source": [
    "#Create a path\n",
    "\n",
    "path = r'C:\\Users\\dyl41\\Documents\\Quality of Life Project'"
   ]
  },
  {
   "cell_type": "code",
   "execution_count": 4,
   "id": "3c5a7b05",
   "metadata": {},
   "outputs": [],
   "source": [
    "#Import the dataset\n",
    "\n",
    "df = pd.read_csv(os.path.join(path, 'Data', 'Prepared Data', 'QualityofLife2.csv'), index_col = False)"
   ]
  },
  {
   "cell_type": "markdown",
   "id": "572a2ecf",
   "metadata": {},
   "source": [
    "## 2. Data Cleaning"
   ]
  },
  {
   "cell_type": "code",
   "execution_count": 5,
   "id": "a577838c",
   "metadata": {},
   "outputs": [
    {
     "data": {
      "text/html": [
       "<div>\n",
       "<style scoped>\n",
       "    .dataframe tbody tr th:only-of-type {\n",
       "        vertical-align: middle;\n",
       "    }\n",
       "\n",
       "    .dataframe tbody tr th {\n",
       "        vertical-align: top;\n",
       "    }\n",
       "\n",
       "    .dataframe thead th {\n",
       "        text-align: right;\n",
       "    }\n",
       "</style>\n",
       "<table border=\"1\" class=\"dataframe\">\n",
       "  <thead>\n",
       "    <tr style=\"text-align: right;\">\n",
       "      <th></th>\n",
       "      <th>Rank</th>\n",
       "      <th>Country</th>\n",
       "      <th>Stability</th>\n",
       "      <th>Rights</th>\n",
       "      <th>Health</th>\n",
       "      <th>Safety</th>\n",
       "      <th>Climate</th>\n",
       "      <th>Costs</th>\n",
       "      <th>Popularity</th>\n",
       "      <th>TotalQualityofLife</th>\n",
       "      <th>Quality of Life Ranking</th>\n",
       "    </tr>\n",
       "  </thead>\n",
       "  <tbody>\n",
       "    <tr>\n",
       "      <th>0</th>\n",
       "      <td>1</td>\n",
       "      <td>Australia</td>\n",
       "      <td>86</td>\n",
       "      <td>92</td>\n",
       "      <td>87</td>\n",
       "      <td>100</td>\n",
       "      <td>90</td>\n",
       "      <td>23</td>\n",
       "      <td>41</td>\n",
       "      <td>76</td>\n",
       "      <td>Best Quality of Life</td>\n",
       "    </tr>\n",
       "    <tr>\n",
       "      <th>1</th>\n",
       "      <td>2</td>\n",
       "      <td>San Marino</td>\n",
       "      <td>81</td>\n",
       "      <td>82</td>\n",
       "      <td>91</td>\n",
       "      <td>87</td>\n",
       "      <td>62</td>\n",
       "      <td>61</td>\n",
       "      <td>47</td>\n",
       "      <td>74</td>\n",
       "      <td>Best Quality of Life</td>\n",
       "    </tr>\n",
       "    <tr>\n",
       "      <th>2</th>\n",
       "      <td>3</td>\n",
       "      <td>Hong Kong</td>\n",
       "      <td>77</td>\n",
       "      <td>85</td>\n",
       "      <td>100</td>\n",
       "      <td>97</td>\n",
       "      <td>49</td>\n",
       "      <td>61</td>\n",
       "      <td>41</td>\n",
       "      <td>74</td>\n",
       "      <td>Best Quality of Life</td>\n",
       "    </tr>\n",
       "    <tr>\n",
       "      <th>3</th>\n",
       "      <td>4</td>\n",
       "      <td>Switzerland</td>\n",
       "      <td>91</td>\n",
       "      <td>99</td>\n",
       "      <td>93</td>\n",
       "      <td>99</td>\n",
       "      <td>34</td>\n",
       "      <td>44</td>\n",
       "      <td>46</td>\n",
       "      <td>74</td>\n",
       "      <td>Best Quality of Life</td>\n",
       "    </tr>\n",
       "    <tr>\n",
       "      <th>4</th>\n",
       "      <td>5</td>\n",
       "      <td>Macao</td>\n",
       "      <td>90</td>\n",
       "      <td>71</td>\n",
       "      <td>100</td>\n",
       "      <td>93</td>\n",
       "      <td>48</td>\n",
       "      <td>61</td>\n",
       "      <td>44</td>\n",
       "      <td>73</td>\n",
       "      <td>Best Quality of Life</td>\n",
       "    </tr>\n",
       "  </tbody>\n",
       "</table>\n",
       "</div>"
      ],
      "text/plain": [
       "   Rank      Country  Stability  Rights  Health  Safety  Climate  Costs  \\\n",
       "0     1    Australia         86      92      87     100       90     23   \n",
       "1     2   San Marino         81      82      91      87       62     61   \n",
       "2     3    Hong Kong         77      85     100      97       49     61   \n",
       "3     4  Switzerland         91      99      93      99       34     44   \n",
       "4     5        Macao         90      71     100      93       48     61   \n",
       "\n",
       "   Popularity  TotalQualityofLife Quality of Life Ranking  \n",
       "0          41                  76    Best Quality of Life  \n",
       "1          47                  74    Best Quality of Life  \n",
       "2          41                  74    Best Quality of Life  \n",
       "3          46                  74    Best Quality of Life  \n",
       "4          44                  73    Best Quality of Life  "
      ]
     },
     "execution_count": 5,
     "metadata": {},
     "output_type": "execute_result"
    }
   ],
   "source": [
    "#Check the dataframe\n",
    "\n",
    "df.head()"
   ]
  },
  {
   "cell_type": "code",
   "execution_count": 6,
   "id": "6856518e",
   "metadata": {},
   "outputs": [
    {
     "data": {
      "text/plain": [
       "(137, 11)"
      ]
     },
     "execution_count": 6,
     "metadata": {},
     "output_type": "execute_result"
    }
   ],
   "source": [
    "#Check the dataframe shape\n",
    "\n",
    "df.shape"
   ]
  },
  {
   "cell_type": "code",
   "execution_count": 7,
   "id": "47c99fc2",
   "metadata": {},
   "outputs": [
    {
     "data": {
      "text/plain": [
       "Rank                       0\n",
       "Country                    0\n",
       "Stability                  0\n",
       "Rights                     0\n",
       "Health                     0\n",
       "Safety                     0\n",
       "Climate                    0\n",
       "Costs                      0\n",
       "Popularity                 0\n",
       "TotalQualityofLife         0\n",
       "Quality of Life Ranking    0\n",
       "dtype: int64"
      ]
     },
     "execution_count": 7,
     "metadata": {},
     "output_type": "execute_result"
    }
   ],
   "source": [
    "# Check for missing values\n",
    "\n",
    "df.isnull().sum()"
   ]
  },
  {
   "cell_type": "code",
   "execution_count": 8,
   "id": "cdf75aab",
   "metadata": {},
   "outputs": [
    {
     "name": "stderr",
     "output_type": "stream",
     "text": [
      "C:\\Users\\dyl41\\anaconda3\\lib\\site-packages\\seaborn\\distributions.py:2619: FutureWarning: `distplot` is a deprecated function and will be removed in a future version. Please adapt your code to use either `displot` (a figure-level function with similar flexibility) or `histplot` (an axes-level function for histograms).\n",
      "  warnings.warn(msg, FutureWarning)\n"
     ]
    },
    {
     "data": {
      "text/plain": [
       "<AxesSubplot:xlabel='TotalQualityofLife', ylabel='Density'>"
      ]
     },
     "execution_count": 8,
     "metadata": {},
     "output_type": "execute_result"
    },
    {
     "data": {
      "image/png": "[encoded data removed]",
      "text/plain": [
       "<Figure size 640x480 with 1 Axes>"
      ]
     },
     "metadata": {},
     "output_type": "display_data"
    }
   ],
   "source": [
    "# Check for extreme values\n",
    "\n",
    "sns.distplot(df['TotalQualityofLife'],bins = 25, kde = True)"
   ]
  },
  {
   "cell_type": "code",
   "execution_count": 9,
   "id": "8fa6b819",
   "metadata": {},
   "outputs": [
    {
     "data": {
      "text/plain": [
       "54.802919708029194"
      ]
     },
     "execution_count": 9,
     "metadata": {},
     "output_type": "execute_result"
    }
   ],
   "source": [
    "# Check Mean\n",
    "\n",
    "df ['TotalQualityofLife'].mean()"
   ]
  },
  {
   "cell_type": "code",
   "execution_count": 10,
   "id": "d13cc71d",
   "metadata": {},
   "outputs": [
    {
     "data": {
      "text/plain": [
       "54.0"
      ]
     },
     "execution_count": 10,
     "metadata": {},
     "output_type": "execute_result"
    }
   ],
   "source": [
    "# Check median\n",
    "\n",
    "df ['TotalQualityofLife'].median()"
   ]
  },
  {
   "cell_type": "code",
   "execution_count": 11,
   "id": "88592934",
   "metadata": {},
   "outputs": [
    {
     "data": {
      "text/plain": [
       "76"
      ]
     },
     "execution_count": 11,
     "metadata": {},
     "output_type": "execute_result"
    }
   ],
   "source": [
    "# Check max\n",
    "\n",
    "df ['TotalQualityofLife'].max()"
   ]
  },
  {
   "cell_type": "code",
   "execution_count": 12,
   "id": "4a9cde64",
   "metadata": {},
   "outputs": [
    {
     "data": {
      "text/plain": [
       "29"
      ]
     },
     "execution_count": 12,
     "metadata": {},
     "output_type": "execute_result"
    }
   ],
   "source": [
    "# Check max\n",
    "\n",
    "df ['TotalQualityofLife'].min()"
   ]
  },
  {
   "cell_type": "markdown",
   "id": "3a347e56",
   "metadata": {},
   "source": [
    "## 3. Data Prep for Regression Analysis"
   ]
  },
  {
   "cell_type": "code",
   "execution_count": 13,
   "id": "28abcd4a",
   "metadata": {},
   "outputs": [
    {
     "data": {
      "image/png": "[encoded data removed]",
      "text/plain": [
       "<Figure size 640x480 with 1 Axes>"
      ]
     },
     "metadata": {},
     "output_type": "display_data"
    }
   ],
   "source": [
    "# Create a scatterplot using matplotlib for another look at how the chosen variables plot against each other.\n",
    "\n",
    "df.plot(x = 'TotalQualityofLife', y='Stability',style='o') # The style option creates a scatterplot; without it, we only have lines.\n",
    "plt.title('Total TotalQualityofLife vs Stability')  \n",
    "plt.xlabel('TotalQualityofLife')  \n",
    "plt.ylabel('Stability')  \n",
    "plt.show()"
   ]
  },
  {
   "cell_type": "code",
   "execution_count": 14,
   "id": "ca5c43f6",
   "metadata": {},
   "outputs": [],
   "source": [
    "# Reshape the variables into NumPy arrays and put them into separate objects.\n",
    "\n",
    "X = df ['TotalQualityofLife'].values.reshape(-1,1)\n",
    "y = df ['Stability'].values.reshape(-1,1)"
   ]
  },
  {
   "cell_type": "code",
   "execution_count": 15,
   "id": "018bdcba",
   "metadata": {},
   "outputs": [
    {
     "data": {
      "text/plain": [
       "array([[76],\n",
       "       [74],\n",
       "       [74],\n",
       "       [74],\n",
       "       [73],\n",
       "       [72],\n",
       "       [71],\n",
       "       [71],\n",
       "       [71],\n",
       "       [71],\n",
       "       [70],\n",
       "       [69],\n",
       "       [69],\n",
       "       [69],\n",
       "       [69],\n",
       "       [69],\n",
       "       [69],\n",
       "       [69],\n",
       "       [68],\n",
       "       [68],\n",
       "       [68],\n",
       "       [68],\n",
       "       [67],\n",
       "       [67],\n",
       "       [67],\n",
       "       [67],\n",
       "       [67],\n",
       "       [66],\n",
       "       [66],\n",
       "       [66],\n",
       "       [65],\n",
       "       [65],\n",
       "       [65],\n",
       "       [64],\n",
       "       [64],\n",
       "       [63],\n",
       "       [63],\n",
       "       [63],\n",
       "       [63],\n",
       "       [63],\n",
       "       [62],\n",
       "       [62],\n",
       "       [61],\n",
       "       [60],\n",
       "       [60],\n",
       "       [60],\n",
       "       [60],\n",
       "       [59],\n",
       "       [59],\n",
       "       [59],\n",
       "       [59],\n",
       "       [58],\n",
       "       [58],\n",
       "       [58],\n",
       "       [57],\n",
       "       [57],\n",
       "       [57],\n",
       "       [57],\n",
       "       [57],\n",
       "       [56],\n",
       "       [56],\n",
       "       [56],\n",
       "       [56],\n",
       "       [55],\n",
       "       [55],\n",
       "       [55],\n",
       "       [55],\n",
       "       [54],\n",
       "       [54],\n",
       "       [54],\n",
       "       [54],\n",
       "       [54],\n",
       "       [54],\n",
       "       [53],\n",
       "       [53],\n",
       "       [53],\n",
       "       [52],\n",
       "       [52],\n",
       "       [52],\n",
       "       [52],\n",
       "       [52],\n",
       "       [52],\n",
       "       [51],\n",
       "       [51],\n",
       "       [51],\n",
       "       [51],\n",
       "       [51],\n",
       "       [50],\n",
       "       [50],\n",
       "       [50],\n",
       "       [50],\n",
       "       [50],\n",
       "       [50],\n",
       "       [49],\n",
       "       [49],\n",
       "       [49],\n",
       "       [49],\n",
       "       [49],\n",
       "       [48],\n",
       "       [48],\n",
       "       [48],\n",
       "       [48],\n",
       "       [47],\n",
       "       [47],\n",
       "       [46],\n",
       "       [46],\n",
       "       [46],\n",
       "       [46],\n",
       "       [46],\n",
       "       [45],\n",
       "       [45],\n",
       "       [45],\n",
       "       [44],\n",
       "       [44],\n",
       "       [44],\n",
       "       [44],\n",
       "       [43],\n",
       "       [43],\n",
       "       [42],\n",
       "       [42],\n",
       "       [42],\n",
       "       [42],\n",
       "       [42],\n",
       "       [42],\n",
       "       [42],\n",
       "       [41],\n",
       "       [41],\n",
       "       [39],\n",
       "       [36],\n",
       "       [36],\n",
       "       [35],\n",
       "       [34],\n",
       "       [34],\n",
       "       [32],\n",
       "       [32],\n",
       "       [30],\n",
       "       [29]], dtype=int64)"
      ]
     },
     "execution_count": 15,
     "metadata": {},
     "output_type": "execute_result"
    }
   ],
   "source": [
    "X"
   ]
  },
  {
   "cell_type": "code",
   "execution_count": 16,
   "id": "e5d85b46",
   "metadata": {},
   "outputs": [
    {
     "data": {
      "text/plain": [
       "array([[86],\n",
       "       [81],\n",
       "       [77],\n",
       "       [91],\n",
       "       [90],\n",
       "       [86],\n",
       "       [93],\n",
       "       [89],\n",
       "       [83],\n",
       "       [64],\n",
       "       [87],\n",
       "       [83],\n",
       "       [80],\n",
       "       [85],\n",
       "       [82],\n",
       "       [89],\n",
       "       [81],\n",
       "       [67],\n",
       "       [91],\n",
       "       [87],\n",
       "       [72],\n",
       "       [85],\n",
       "       [86],\n",
       "       [84],\n",
       "       [67],\n",
       "       [63],\n",
       "       [82],\n",
       "       [80],\n",
       "       [78],\n",
       "       [77],\n",
       "       [67],\n",
       "       [57],\n",
       "       [60],\n",
       "       [69],\n",
       "       [65],\n",
       "       [70],\n",
       "       [66],\n",
       "       [82],\n",
       "       [75],\n",
       "       [80],\n",
       "       [84],\n",
       "       [68],\n",
       "       [76],\n",
       "       [73],\n",
       "       [53],\n",
       "       [74],\n",
       "       [77],\n",
       "       [59],\n",
       "       [68],\n",
       "       [56],\n",
       "       [64],\n",
       "       [61],\n",
       "       [70],\n",
       "       [69],\n",
       "       [46],\n",
       "       [64],\n",
       "       [76],\n",
       "       [69],\n",
       "       [66],\n",
       "       [57],\n",
       "       [41],\n",
       "       [50],\n",
       "       [56],\n",
       "       [55],\n",
       "       [38],\n",
       "       [52],\n",
       "       [58],\n",
       "       [61],\n",
       "       [59],\n",
       "       [47],\n",
       "       [36],\n",
       "       [50],\n",
       "       [31],\n",
       "       [54],\n",
       "       [64],\n",
       "       [68],\n",
       "       [47],\n",
       "       [48],\n",
       "       [35],\n",
       "       [46],\n",
       "       [54],\n",
       "       [67],\n",
       "       [61],\n",
       "       [57],\n",
       "       [51],\n",
       "       [68],\n",
       "       [65],\n",
       "       [42],\n",
       "       [36],\n",
       "       [37],\n",
       "       [50],\n",
       "       [55],\n",
       "       [49],\n",
       "       [51],\n",
       "       [47],\n",
       "       [48],\n",
       "       [53],\n",
       "       [42],\n",
       "       [41],\n",
       "       [44],\n",
       "       [68],\n",
       "       [47],\n",
       "       [24],\n",
       "       [52],\n",
       "       [47],\n",
       "       [36],\n",
       "       [46],\n",
       "       [46],\n",
       "       [52],\n",
       "       [43],\n",
       "       [10],\n",
       "       [59],\n",
       "       [37],\n",
       "       [56],\n",
       "       [48],\n",
       "       [34],\n",
       "       [36],\n",
       "       [48],\n",
       "       [31],\n",
       "       [45],\n",
       "       [49],\n",
       "       [51],\n",
       "       [47],\n",
       "       [19],\n",
       "       [27],\n",
       "       [31],\n",
       "       [38],\n",
       "       [29],\n",
       "       [27],\n",
       "       [36],\n",
       "       [28],\n",
       "       [16],\n",
       "       [40],\n",
       "       [18],\n",
       "       [46],\n",
       "       [ 8],\n",
       "       [32]], dtype=int64)"
      ]
     },
     "execution_count": 16,
     "metadata": {},
     "output_type": "execute_result"
    }
   ],
   "source": [
    "y"
   ]
  },
  {
   "cell_type": "code",
   "execution_count": 17,
   "id": "24551564",
   "metadata": {},
   "outputs": [],
   "source": [
    "# Split data into a training set and a test set.\n",
    "\n",
    "X_train, X_test, y_train, y_test = train_test_split(X, y, test_size=0.3, random_state=0)"
   ]
  },
  {
   "cell_type": "markdown",
   "id": "6e99a8f2",
   "metadata": {},
   "source": [
    "## 4. Regression Analysis"
   ]
  },
  {
   "cell_type": "markdown",
   "id": "942140ee",
   "metadata": {},
   "source": [
    "<B>Hypothesis: The higher the quality of life score, the higher the perceived stability of the country"
   ]
  },
  {
   "cell_type": "code",
   "execution_count": 18,
   "id": "27fd2fd5",
   "metadata": {},
   "outputs": [],
   "source": [
    "# Create a regression object.\n",
    "\n",
    "regression = LinearRegression()  # This is the regression object, which will be fit onto the training set."
   ]
  },
  {
   "cell_type": "code",
   "execution_count": 19,
   "id": "28232b9e",
   "metadata": {},
   "outputs": [
    {
     "data": {
      "text/plain": [
       "LinearRegression()"
      ]
     },
     "execution_count": 19,
     "metadata": {},
     "output_type": "execute_result"
    }
   ],
   "source": [
    "# Fit the regression object onto the training set.\n",
    "\n",
    "regression.fit(X_train, y_train)"
   ]
  },
  {
   "cell_type": "code",
   "execution_count": 20,
   "id": "03d85a1d",
   "metadata": {},
   "outputs": [],
   "source": [
    "# Apply model to x_test data to predict y values\n",
    "\n",
    "y_predicted = regression.predict(X_test)"
   ]
  },
  {
   "cell_type": "code",
   "execution_count": 21,
   "id": "f0b76d71",
   "metadata": {},
   "outputs": [
    {
     "data": {
      "image/png": "[encoded data removed]",
      "text/plain": [
       "<Figure size 640x480 with 1 Axes>"
      ]
     },
     "metadata": {},
     "output_type": "display_data"
    }
   ],
   "source": [
    "# Create a plot that shows the regression line from the model on the test set.\n",
    "plot_test = plt\n",
    "plot_test.scatter(X_test, y_test, color='gray', s = 15)\n",
    "plot_test.plot(X_test, y_predicted, color='red', linewidth =3)\n",
    "plot_test.title('Total Quality of Life Score vs Stability (Test set)')\n",
    "plot_test.xlabel('TotalQualityofLife')\n",
    "plot_test.ylabel('Stability')\n",
    "plot_test.show()"
   ]
  },
  {
   "cell_type": "markdown",
   "id": "785d8f20",
   "metadata": {},
   "source": [
    "<B> The red line indicates that the data fits the test set well, as the data points move in a linear direction with the line."
   ]
  },
  {
   "cell_type": "code",
   "execution_count": 22,
   "id": "654ff09c",
   "metadata": {},
   "outputs": [],
   "source": [
    "# Create objects that contain the model summary statistics.\n",
    "\n",
    "rmse = mean_squared_error(y_test, y_predicted) # This is the mean squared error\n",
    "r2 = r2_score(y_test, y_predicted) # This is the R2 score. "
   ]
  },
  {
   "cell_type": "code",
   "execution_count": 23,
   "id": "05de934d",
   "metadata": {},
   "outputs": [
    {
     "name": "stdout",
     "output_type": "stream",
     "text": [
      "Slope: [[1.50125993]]\n",
      "Mean squared error:  72.1028492384033\n",
      "R2 score:  0.7802471629199434\n"
     ]
    }
   ],
   "source": [
    "# Print the model summary statistics. This is where you evaluate the performance of the model.\n",
    "\n",
    "print('Slope:' ,regression.coef_)\n",
    "print('Mean squared error: ', rmse)\n",
    "print('R2 score: ', r2)"
   ]
  },
  {
   "cell_type": "code",
   "execution_count": 24,
   "id": "c38c1b08",
   "metadata": {},
   "outputs": [
    {
     "data": {
      "text/plain": [
       "array([[75.80029785],\n",
       "       [81.80533757],\n",
       "       [51.78013896],\n",
       "       [53.28139889],\n",
       "       [65.29147834],\n",
       "       [51.78013896],\n",
       "       [75.80029785],\n",
       "       [63.79021841],\n",
       "       [65.29147834],\n",
       "       [75.80029785],\n",
       "       [59.28643861],\n",
       "       [41.27131945],\n",
       "       [60.78769854],\n",
       "       [74.29903792],\n",
       "       [59.28643861],\n",
       "       [41.27131945],\n",
       "       [41.27131945],\n",
       "       [38.26879959],\n",
       "       [44.27383931],\n",
       "       [51.78013896],\n",
       "       [59.28643861],\n",
       "       [77.30155778],\n",
       "       [50.27887903],\n",
       "       [71.29651806],\n",
       "       [48.7776191 ],\n",
       "       [63.79021841],\n",
       "       [81.80533757],\n",
       "       [78.80281771],\n",
       "       [29.26124   ],\n",
       "       [80.30407764],\n",
       "       [86.30911737],\n",
       "       [62.28895848],\n",
       "       [47.27635917],\n",
       "       [39.77005952],\n",
       "       [72.79777799],\n",
       "       [48.7776191 ],\n",
       "       [54.78265882],\n",
       "       [56.28391875],\n",
       "       [65.29147834],\n",
       "       [44.27383931],\n",
       "       [26.25872014],\n",
       "       [78.80281771]])"
      ]
     },
     "execution_count": 24,
     "metadata": {},
     "output_type": "execute_result"
    }
   ],
   "source": [
    "y_predicted"
   ]
  },
  {
   "cell_type": "code",
   "execution_count": 25,
   "id": "7ab9ac99",
   "metadata": {},
   "outputs": [
    {
     "data": {
      "text/html": [
       "<div>\n",
       "<style scoped>\n",
       "    .dataframe tbody tr th:only-of-type {\n",
       "        vertical-align: middle;\n",
       "    }\n",
       "\n",
       "    .dataframe tbody tr th {\n",
       "        vertical-align: top;\n",
       "    }\n",
       "\n",
       "    .dataframe thead th {\n",
       "        text-align: right;\n",
       "    }\n",
       "</style>\n",
       "<table border=\"1\" class=\"dataframe\">\n",
       "  <thead>\n",
       "    <tr style=\"text-align: right;\">\n",
       "      <th></th>\n",
       "      <th>Actual</th>\n",
       "      <th>Predicted</th>\n",
       "    </tr>\n",
       "  </thead>\n",
       "  <tbody>\n",
       "    <tr>\n",
       "      <th>0</th>\n",
       "      <td>82</td>\n",
       "      <td>75.800298</td>\n",
       "    </tr>\n",
       "    <tr>\n",
       "      <th>1</th>\n",
       "      <td>83</td>\n",
       "      <td>81.805338</td>\n",
       "    </tr>\n",
       "    <tr>\n",
       "      <th>2</th>\n",
       "      <td>65</td>\n",
       "      <td>51.780139</td>\n",
       "    </tr>\n",
       "    <tr>\n",
       "      <th>3</th>\n",
       "      <td>35</td>\n",
       "      <td>53.281399</td>\n",
       "    </tr>\n",
       "    <tr>\n",
       "      <th>4</th>\n",
       "      <td>73</td>\n",
       "      <td>65.291478</td>\n",
       "    </tr>\n",
       "    <tr>\n",
       "      <th>5</th>\n",
       "      <td>68</td>\n",
       "      <td>51.780139</td>\n",
       "    </tr>\n",
       "    <tr>\n",
       "      <th>6</th>\n",
       "      <td>86</td>\n",
       "      <td>75.800298</td>\n",
       "    </tr>\n",
       "    <tr>\n",
       "      <th>7</th>\n",
       "      <td>64</td>\n",
       "      <td>63.790218</td>\n",
       "    </tr>\n",
       "    <tr>\n",
       "      <th>8</th>\n",
       "      <td>74</td>\n",
       "      <td>65.291478</td>\n",
       "    </tr>\n",
       "    <tr>\n",
       "      <th>9</th>\n",
       "      <td>67</td>\n",
       "      <td>75.800298</td>\n",
       "    </tr>\n",
       "    <tr>\n",
       "      <th>10</th>\n",
       "      <td>57</td>\n",
       "      <td>59.286439</td>\n",
       "    </tr>\n",
       "    <tr>\n",
       "      <th>11</th>\n",
       "      <td>56</td>\n",
       "      <td>41.271319</td>\n",
       "    </tr>\n",
       "    <tr>\n",
       "      <th>12</th>\n",
       "      <td>46</td>\n",
       "      <td>60.787699</td>\n",
       "    </tr>\n",
       "    <tr>\n",
       "      <th>13</th>\n",
       "      <td>80</td>\n",
       "      <td>74.299038</td>\n",
       "    </tr>\n",
       "    <tr>\n",
       "      <th>14</th>\n",
       "      <td>56</td>\n",
       "      <td>59.286439</td>\n",
       "    </tr>\n",
       "    <tr>\n",
       "      <th>15</th>\n",
       "      <td>34</td>\n",
       "      <td>41.271319</td>\n",
       "    </tr>\n",
       "    <tr>\n",
       "      <th>16</th>\n",
       "      <td>48</td>\n",
       "      <td>41.271319</td>\n",
       "    </tr>\n",
       "    <tr>\n",
       "      <th>17</th>\n",
       "      <td>47</td>\n",
       "      <td>38.268800</td>\n",
       "    </tr>\n",
       "    <tr>\n",
       "      <th>18</th>\n",
       "      <td>47</td>\n",
       "      <td>44.273839</td>\n",
       "    </tr>\n",
       "    <tr>\n",
       "      <th>19</th>\n",
       "      <td>51</td>\n",
       "      <td>51.780139</td>\n",
       "    </tr>\n",
       "    <tr>\n",
       "      <th>20</th>\n",
       "      <td>41</td>\n",
       "      <td>59.286439</td>\n",
       "    </tr>\n",
       "    <tr>\n",
       "      <th>21</th>\n",
       "      <td>91</td>\n",
       "      <td>77.301558</td>\n",
       "    </tr>\n",
       "    <tr>\n",
       "      <th>22</th>\n",
       "      <td>49</td>\n",
       "      <td>50.278879</td>\n",
       "    </tr>\n",
       "    <tr>\n",
       "      <th>23</th>\n",
       "      <td>69</td>\n",
       "      <td>71.296518</td>\n",
       "    </tr>\n",
       "    <tr>\n",
       "      <th>24</th>\n",
       "      <td>47</td>\n",
       "      <td>48.777619</td>\n",
       "    </tr>\n",
       "    <tr>\n",
       "      <th>25</th>\n",
       "      <td>68</td>\n",
       "      <td>63.790218</td>\n",
       "    </tr>\n",
       "    <tr>\n",
       "      <th>26</th>\n",
       "      <td>89</td>\n",
       "      <td>81.805338</td>\n",
       "    </tr>\n",
       "    <tr>\n",
       "      <th>27</th>\n",
       "      <td>81</td>\n",
       "      <td>78.802818</td>\n",
       "    </tr>\n",
       "    <tr>\n",
       "      <th>28</th>\n",
       "      <td>27</td>\n",
       "      <td>29.261240</td>\n",
       "    </tr>\n",
       "    <tr>\n",
       "      <th>29</th>\n",
       "      <td>87</td>\n",
       "      <td>80.304078</td>\n",
       "    </tr>\n",
       "  </tbody>\n",
       "</table>\n",
       "</div>"
      ],
      "text/plain": [
       "    Actual  Predicted\n",
       "0       82  75.800298\n",
       "1       83  81.805338\n",
       "2       65  51.780139\n",
       "3       35  53.281399\n",
       "4       73  65.291478\n",
       "5       68  51.780139\n",
       "6       86  75.800298\n",
       "7       64  63.790218\n",
       "8       74  65.291478\n",
       "9       67  75.800298\n",
       "10      57  59.286439\n",
       "11      56  41.271319\n",
       "12      46  60.787699\n",
       "13      80  74.299038\n",
       "14      56  59.286439\n",
       "15      34  41.271319\n",
       "16      48  41.271319\n",
       "17      47  38.268800\n",
       "18      47  44.273839\n",
       "19      51  51.780139\n",
       "20      41  59.286439\n",
       "21      91  77.301558\n",
       "22      49  50.278879\n",
       "23      69  71.296518\n",
       "24      47  48.777619\n",
       "25      68  63.790218\n",
       "26      89  81.805338\n",
       "27      81  78.802818\n",
       "28      27  29.261240\n",
       "29      87  80.304078"
      ]
     },
     "execution_count": 25,
     "metadata": {},
     "output_type": "execute_result"
    }
   ],
   "source": [
    "# Create a dataframe comparing the actual and predicted values of y.\n",
    "\n",
    "data = pd.DataFrame({'Actual': y_test.flatten(), 'Predicted': y_predicted.flatten()})\n",
    "data.head(30)"
   ]
  },
  {
   "cell_type": "markdown",
   "id": "63b8ac8d",
   "metadata": {},
   "source": [
    "<B>The R2 score of 0.78 indicates that the regression analysis is a strong fit here, as it is much closer to 1 than 0, which would indicate a poor fit. The MSE of 72.10 seems high for this dataset, indicating that the trend line does not pass very closely with the datapoints. Finally, the slop of 1.50 indicates a positive relationship with the x and y variables, showing that when x rises, so does y. Based on the mixed results, I believe a linear regression model may not be a good fit for this particular analysis."
   ]
  },
  {
   "cell_type": "markdown",
   "id": "b7fe4099",
   "metadata": {},
   "source": [
    "<B>Compare how the regression fits the training set"
   ]
  },
  {
   "cell_type": "code",
   "execution_count": 26,
   "id": "9095c13f",
   "metadata": {},
   "outputs": [],
   "source": [
    "# Predict.\n",
    "\n",
    "y_predicted_train = regression.predict(X_train) # This is predicting X_train"
   ]
  },
  {
   "cell_type": "code",
   "execution_count": 27,
   "id": "c93cfd47",
   "metadata": {},
   "outputs": [],
   "source": [
    "rmse = mean_squared_error(y_train, y_predicted_train)\n",
    "r2 = r2_score(y_train, y_predicted_train)"
   ]
  },
  {
   "cell_type": "code",
   "execution_count": 28,
   "id": "873a760f",
   "metadata": {},
   "outputs": [
    {
     "name": "stdout",
     "output_type": "stream",
     "text": [
      "Slope: [[1.50125993]]\n",
      "Mean squared error:  109.17692352766937\n",
      "R2 score:  0.7177901058765797\n"
     ]
    }
   ],
   "source": [
    "print('Slope:' ,regression.coef_)\n",
    "print('Mean squared error: ', rmse)\n",
    "print('R2 score: ', r2)"
   ]
  },
  {
   "cell_type": "code",
   "execution_count": 29,
   "id": "1196a3ff",
   "metadata": {},
   "outputs": [
    {
     "data": {
      "image/png": "[encoded data removed]",
      "text/plain": [
       "<Figure size 640x480 with 1 Axes>"
      ]
     },
     "metadata": {},
     "output_type": "display_data"
    }
   ],
   "source": [
    "plot_test = plt\n",
    "plot_test.scatter(X_train, y_train, color='green', s = 15)\n",
    "plot_test.plot(X_train, y_predicted_train, color='red', linewidth =3)\n",
    "plot_test.title('Total Quality of Life Score vs Stability (Train set)')\n",
    "plot_test.xlabel('TotalQualityofLife')\n",
    "plot_test.ylabel('Stability')\n",
    "plot_test.show()"
   ]
  },
  {
   "cell_type": "markdown",
   "id": "bb09b863",
   "metadata": {},
   "source": [
    "<B>The comparison between the test and training sets revealed that the numbers are very similar, with the R2 score have a difference of -0.06, the MSE having a difference of -37.08, and the slope being the same. These statistics indicate that the model was not overfitted.\n",
    "\n",
    "<B>This would also indicate that the relationship I am exploring is not purely linear."
   ]
  },
  {
   "cell_type": "code",
   "execution_count": null,
   "id": "9f2bb537",
   "metadata": {},
   "outputs": [],
   "source": []
  }
 ],
 "metadata": {
  "kernelspec": {
   "display_name": "Python 3 (ipykernel)",
   "language": "python",
   "name": "python3"
  },
  "language_info": {
   "codemirror_mode": {
    "name": "ipython",
    "version": 3
   },
   "file_extension": ".py",
   "mimetype": "text/x-python",
   "name": "python",
   "nbconvert_exporter": "python",
   "pygments_lexer": "ipython3",
   "version": "3.9.13"
  }
 },
 "nbformat": 4,
 "nbformat_minor": 5
}
